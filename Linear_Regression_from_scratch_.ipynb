{
  "nbformat": 4,
  "nbformat_minor": 0,
  "metadata": {
    "colab": {
      "name": "Linear Regression from scratch .ipynb",
      "provenance": [],
      "collapsed_sections": [],
      "authorship_tag": "ABX9TyNxnwpLSr+UY5do0ubhbRa4",
      "include_colab_link": true
    },
    "kernelspec": {
      "name": "python3",
      "display_name": "Python 3"
    },
    "widgets": {
      "application/vnd.jupyter.widget-state+json": {
        "9904d45102e64a01917557a841681753": {
          "model_module": "@jupyter-widgets/controls",
          "model_name": "HBoxModel",
          "state": {
            "_view_name": "HBoxView",
            "_dom_classes": [],
            "_model_name": "HBoxModel",
            "_view_module": "@jupyter-widgets/controls",
            "_model_module_version": "1.5.0",
            "_view_count": null,
            "_view_module_version": "1.5.0",
            "box_style": "",
            "layout": "IPY_MODEL_e1266f39200b462d94d63fc192e58eca",
            "_model_module": "@jupyter-widgets/controls",
            "children": [
              "IPY_MODEL_0ebf5a06dcc048cd9b92a8d33603e967",
              "IPY_MODEL_40605141f0264e6fbf5636d0e0437d52"
            ]
          }
        },
        "e1266f39200b462d94d63fc192e58eca": {
          "model_module": "@jupyter-widgets/base",
          "model_name": "LayoutModel",
          "state": {
            "_view_name": "LayoutView",
            "grid_template_rows": null,
            "right": null,
            "justify_content": null,
            "_view_module": "@jupyter-widgets/base",
            "overflow": null,
            "_model_module_version": "1.2.0",
            "_view_count": null,
            "flex_flow": null,
            "width": null,
            "min_width": null,
            "border": null,
            "align_items": null,
            "bottom": null,
            "_model_module": "@jupyter-widgets/base",
            "top": null,
            "grid_column": null,
            "overflow_y": null,
            "overflow_x": null,
            "grid_auto_flow": null,
            "grid_area": null,
            "grid_template_columns": null,
            "flex": null,
            "_model_name": "LayoutModel",
            "justify_items": null,
            "grid_row": null,
            "max_height": null,
            "align_content": null,
            "visibility": null,
            "align_self": null,
            "height": null,
            "min_height": null,
            "padding": null,
            "grid_auto_rows": null,
            "grid_gap": null,
            "max_width": null,
            "order": null,
            "_view_module_version": "1.2.0",
            "grid_template_areas": null,
            "object_position": null,
            "object_fit": null,
            "grid_auto_columns": null,
            "margin": null,
            "display": null,
            "left": null
          }
        },
        "0ebf5a06dcc048cd9b92a8d33603e967": {
          "model_module": "@jupyter-widgets/controls",
          "model_name": "FloatProgressModel",
          "state": {
            "_view_name": "ProgressView",
            "style": "IPY_MODEL_7854ef8229b8454a9f923d63f2270ae3",
            "_dom_classes": [],
            "description": "100%",
            "_model_name": "FloatProgressModel",
            "bar_style": "success",
            "max": 1000,
            "_view_module": "@jupyter-widgets/controls",
            "_model_module_version": "1.5.0",
            "value": 1000,
            "_view_count": null,
            "_view_module_version": "1.5.0",
            "orientation": "horizontal",
            "min": 0,
            "description_tooltip": null,
            "_model_module": "@jupyter-widgets/controls",
            "layout": "IPY_MODEL_065efc0c41bf4479ba5510495bd458cb"
          }
        },
        "40605141f0264e6fbf5636d0e0437d52": {
          "model_module": "@jupyter-widgets/controls",
          "model_name": "HTMLModel",
          "state": {
            "_view_name": "HTMLView",
            "style": "IPY_MODEL_7d69033aa2e84c149e2af16edc6332cd",
            "_dom_classes": [],
            "description": "",
            "_model_name": "HTMLModel",
            "placeholder": "​",
            "_view_module": "@jupyter-widgets/controls",
            "_model_module_version": "1.5.0",
            "value": " 1000/1000 [00:00&lt;00:00, 9218.49it/s]",
            "_view_count": null,
            "_view_module_version": "1.5.0",
            "description_tooltip": null,
            "_model_module": "@jupyter-widgets/controls",
            "layout": "IPY_MODEL_2a150f87b3564eafa34ec04d85d63ed2"
          }
        },
        "7854ef8229b8454a9f923d63f2270ae3": {
          "model_module": "@jupyter-widgets/controls",
          "model_name": "ProgressStyleModel",
          "state": {
            "_view_name": "StyleView",
            "_model_name": "ProgressStyleModel",
            "description_width": "initial",
            "_view_module": "@jupyter-widgets/base",
            "_model_module_version": "1.5.0",
            "_view_count": null,
            "_view_module_version": "1.2.0",
            "bar_color": null,
            "_model_module": "@jupyter-widgets/controls"
          }
        },
        "065efc0c41bf4479ba5510495bd458cb": {
          "model_module": "@jupyter-widgets/base",
          "model_name": "LayoutModel",
          "state": {
            "_view_name": "LayoutView",
            "grid_template_rows": null,
            "right": null,
            "justify_content": null,
            "_view_module": "@jupyter-widgets/base",
            "overflow": null,
            "_model_module_version": "1.2.0",
            "_view_count": null,
            "flex_flow": null,
            "width": null,
            "min_width": null,
            "border": null,
            "align_items": null,
            "bottom": null,
            "_model_module": "@jupyter-widgets/base",
            "top": null,
            "grid_column": null,
            "overflow_y": null,
            "overflow_x": null,
            "grid_auto_flow": null,
            "grid_area": null,
            "grid_template_columns": null,
            "flex": null,
            "_model_name": "LayoutModel",
            "justify_items": null,
            "grid_row": null,
            "max_height": null,
            "align_content": null,
            "visibility": null,
            "align_self": null,
            "height": null,
            "min_height": null,
            "padding": null,
            "grid_auto_rows": null,
            "grid_gap": null,
            "max_width": null,
            "order": null,
            "_view_module_version": "1.2.0",
            "grid_template_areas": null,
            "object_position": null,
            "object_fit": null,
            "grid_auto_columns": null,
            "margin": null,
            "display": null,
            "left": null
          }
        },
        "7d69033aa2e84c149e2af16edc6332cd": {
          "model_module": "@jupyter-widgets/controls",
          "model_name": "DescriptionStyleModel",
          "state": {
            "_view_name": "StyleView",
            "_model_name": "DescriptionStyleModel",
            "description_width": "",
            "_view_module": "@jupyter-widgets/base",
            "_model_module_version": "1.5.0",
            "_view_count": null,
            "_view_module_version": "1.2.0",
            "_model_module": "@jupyter-widgets/controls"
          }
        },
        "2a150f87b3564eafa34ec04d85d63ed2": {
          "model_module": "@jupyter-widgets/base",
          "model_name": "LayoutModel",
          "state": {
            "_view_name": "LayoutView",
            "grid_template_rows": null,
            "right": null,
            "justify_content": null,
            "_view_module": "@jupyter-widgets/base",
            "overflow": null,
            "_model_module_version": "1.2.0",
            "_view_count": null,
            "flex_flow": null,
            "width": null,
            "min_width": null,
            "border": null,
            "align_items": null,
            "bottom": null,
            "_model_module": "@jupyter-widgets/base",
            "top": null,
            "grid_column": null,
            "overflow_y": null,
            "overflow_x": null,
            "grid_auto_flow": null,
            "grid_area": null,
            "grid_template_columns": null,
            "flex": null,
            "_model_name": "LayoutModel",
            "justify_items": null,
            "grid_row": null,
            "max_height": null,
            "align_content": null,
            "visibility": null,
            "align_self": null,
            "height": null,
            "min_height": null,
            "padding": null,
            "grid_auto_rows": null,
            "grid_gap": null,
            "max_width": null,
            "order": null,
            "_view_module_version": "1.2.0",
            "grid_template_areas": null,
            "object_position": null,
            "object_fit": null,
            "grid_auto_columns": null,
            "margin": null,
            "display": null,
            "left": null
          }
        }
      }
    }
  },
  "cells": [
    {
      "cell_type": "markdown",
      "metadata": {
        "id": "view-in-github",
        "colab_type": "text"
      },
      "source": [
        "<a href=\"https://colab.research.google.com/github/NeyoxDrago/Algorithms-from-Scratch/blob/main/Linear_Regression_from_scratch_.ipynb\" target=\"_parent\"><img src=\"https://colab.research.google.com/assets/colab-badge.svg\" alt=\"Open In Colab\"/></a>"
      ]
    },
    {
      "cell_type": "code",
      "metadata": {
        "id": "Z7V_LLHvPEIx"
      },
      "source": [
        "from tqdm.notebook import tqdm\r\n",
        "from sklearn.datasets import load_boston\r\n",
        "import pandas as pd\r\n",
        "import numpy as np\r\n",
        "import matplotlib.pyplot as plt\r\n",
        "import seaborn as sns\r\n",
        "sns.set_style(style=\"darkgrid\")\r\n",
        "from sklearn.preprocessing import StandardScaler\r\n",
        "\r\n",
        "\r\n",
        "class CustomLinearRegression():\r\n",
        "\r\n",
        "  def __init__(self,X,Y,\r\n",
        "               iterations=1000,\r\n",
        "               learning_rate=0.1,\r\n",
        "               weights=\"random\"):\r\n",
        "    \r\n",
        "    self.iterations = iterations\r\n",
        "    self.learning_rate = learning_rate\r\n",
        "    \r\n",
        "    self.X = X\r\n",
        "    self.Y = Y\r\n",
        "    \r\n",
        "    self.error_list = []\r\n",
        "\r\n",
        "    if type(X) == pd.core.frame.DataFrame:\r\n",
        "      self.X = self.X.values\r\n",
        "\r\n",
        "    if type(Y) == pd.core.frame.DataFrame:\r\n",
        "      self.Y = self.Y.values\r\n",
        "\r\n",
        "    if weights == \"random\":\r\n",
        "      self.W = np.random.rand(self.X.shape[1])\r\n",
        "    elif weights == \"zeros\":\r\n",
        "      self.W = np.zeros(self.X.shape[1])\r\n",
        "    \r\n",
        "    self.m = self.X.shape[0]\r\n",
        "\r\n",
        "  def hypothesis(self, X_ ):\r\n",
        "    return np.dot(X_ ,self.W)\r\n",
        "\r\n",
        "  def error(self, y_true, y_pred):\r\n",
        "    return np.sum((y_pred - y_true)**2)\r\n",
        "\r\n",
        "  def calc_gradient(self, X_, y_true):\r\n",
        "    y_pred = self.hypothesis(X_)\r\n",
        "    e = self.error(y_true,y_pred)/X_.shape[0]\r\n",
        "    self.error_list.append(e)\r\n",
        "    # print(e)\r\n",
        "\r\n",
        "    grad = np.dot(X_.T, (y_pred - y_true))\r\n",
        "    return grad/X_.shape[0]\r\n",
        "\r\n",
        "  def update(self,grad):\r\n",
        "    self.W = self.W - self.learning_rate*grad*.5\r\n",
        "\r\n",
        "  def fit(self,verbose=None,eval_set=None,use_best_model = True):\r\n",
        "    best_score = np.inf \r\n",
        "    best_iteration = 0\r\n",
        "\r\n",
        "    for i in tqdm(range(self.iterations)):\r\n",
        "      grad = self.calc_gradient(self.X,self.Y)\r\n",
        "      self.update(grad)\r\n",
        "      \r\n",
        "      if eval_set != None:\r\n",
        "        val_score = self.evaluate(*eval_set)\r\n",
        "        if val_score < best_score:\r\n",
        "          best_score = val_score\r\n",
        "          best_weights = self.W\r\n",
        "          best_iteration = i\r\n",
        "\r\n",
        "      if verbose != None and i % verbose == 0:\r\n",
        "          print(f\"Validation Data Score : {val_score} at iteration : {best_iteration}\")\r\n",
        "\r\n",
        "    if use_best_model and eval_set != None:\r\n",
        "      self.W = best_weights\r\n",
        "  \r\n",
        "  def show_results(self):\r\n",
        "    plt.plot(self.error_list)\r\n",
        "    plt.xlabel(\"iterations\")\r\n",
        "    plt.ylabel('loss')\r\n",
        "    plt.show()\r\n",
        "\r\n",
        "  def evaluate(self,X,Y):\r\n",
        "    y_pred = self.hypothesis(X)\r\n",
        "    return self.error(Y,y_pred)/X.shape[0]\r\n",
        "  \r\n",
        "  def predict(self,X):\r\n",
        "    return self.hypothesis(X)\r\n"
      ],
      "execution_count": 231,
      "outputs": []
    },
    {
      "cell_type": "code",
      "metadata": {
        "id": "T-WtgRePOgsX"
      },
      "source": [
        "data = load_boston()\r\n",
        "X = pd.DataFrame(data['data'],columns=data['feature_names'])\r\n",
        "Y = data['target']\r\n",
        "scaler = StandardScaler()\r\n",
        "X = scaler.fit_transform(X)"
      ],
      "execution_count": 232,
      "outputs": []
    },
    {
      "cell_type": "code",
      "metadata": {
        "id": "8jn4tjtBThpn"
      },
      "source": [
        "from sklearn.model_selection import train_test_split\r\n",
        "x_train,x_test,y_train,y_test = train_test_split(X,Y,test_size=0.2,random_state=7)"
      ],
      "execution_count": 233,
      "outputs": []
    },
    {
      "cell_type": "code",
      "metadata": {
        "colab": {
          "base_uri": "https://localhost:8080/",
          "height": 513,
          "referenced_widgets": [
            "9904d45102e64a01917557a841681753",
            "e1266f39200b462d94d63fc192e58eca",
            "0ebf5a06dcc048cd9b92a8d33603e967",
            "40605141f0264e6fbf5636d0e0437d52",
            "7854ef8229b8454a9f923d63f2270ae3",
            "065efc0c41bf4479ba5510495bd458cb",
            "7d69033aa2e84c149e2af16edc6332cd",
            "2a150f87b3564eafa34ec04d85d63ed2"
          ]
        },
        "id": "7e29yoBylprc",
        "outputId": "5c698a85-b3d6-4f4d-abe8-ea1607e9863d"
      },
      "source": [
        "m = CustomLinearRegression(x_train,y_train,\r\n",
        "                           learning_rate = 0.02,\r\n",
        "                           iterations=1000)\r\n",
        "m.fit(verbose=100,eval_set=(x_test,y_test))\r\n",
        "m.show_results()\r\n",
        "m.evaluate(x_test,y_test)"
      ],
      "execution_count": 239,
      "outputs": [
        {
          "output_type": "display_data",
          "data": {
            "application/vnd.jupyter.widget-view+json": {
              "model_id": "9904d45102e64a01917557a841681753",
              "version_minor": 0,
              "version_major": 2
            },
            "text/plain": [
              "HBox(children=(FloatProgress(value=0.0, max=1000.0), HTML(value='')))"
            ]
          },
          "metadata": {
            "tags": []
          }
        },
        {
          "output_type": "stream",
          "text": [
            "Validation Data Score : 589.738680272269 at iteration : 0\n",
            "Validation Data Score : 568.3758337094487 at iteration : 18\n",
            "Validation Data Score : 567.0280006424149 at iteration : 18\n",
            "Validation Data Score : 567.0632903121232 at iteration : 18\n",
            "Validation Data Score : 567.5908516352916 at iteration : 18\n",
            "Validation Data Score : 568.2756614864874 at iteration : 18\n",
            "Validation Data Score : 568.969160100885 at iteration : 18\n",
            "Validation Data Score : 569.6098580853127 at iteration : 18\n",
            "Validation Data Score : 570.1761125265725 at iteration : 18\n",
            "Validation Data Score : 570.6640046833019 at iteration : 18\n",
            "\n"
          ],
          "name": "stdout"
        },
        {
          "output_type": "display_data",
          "data": {
            "image/png": "[encoded data removed]",
            "text/plain": [
              "<Figure size 432x288 with 1 Axes>"
            ]
          },
          "metadata": {
            "tags": []
          }
        },
        {
          "output_type": "execute_result",
          "data": {
            "text/plain": [
              "566.6496760527419"
            ]
          },
          "metadata": {
            "tags": []
          },
          "execution_count": 239
        }
      ]
    },
    {
      "cell_type": "code",
      "metadata": {
        "id": "uY26tpD9XbB6"
      },
      "source": [
        ""
      ],
      "execution_count": null,
      "outputs": []
    }
  ]
}